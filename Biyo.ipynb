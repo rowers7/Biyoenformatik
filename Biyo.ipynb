{
 "cells": [
  {
   "cell_type": "markdown",
   "metadata": {},
   "source": [
    "# LOCAL"
   ]
  },
  {
   "cell_type": "markdown",
   "metadata": {},
   "source": [
    "## 1.Gerekli Kütüphanelerin Kurulumu"
   ]
  },
  {
   "cell_type": "code",
   "execution_count": 51,
   "metadata": {},
   "outputs": [],
   "source": [
    "import numpy as np"
   ]
  },
  {
   "cell_type": "markdown",
   "metadata": {},
   "source": [
    "listex = [\"-\",\"G\",\"C\",\"A\",\"G\",\"A\",\"G\",\"C\",\"A\",\"C\",\"G\"]\n",
    "listey = [\"-\",\"G\",\"C\",\"T\",\"G\",\"G\",\"A\",\"A\",\"G\",\"G\",\"C\",\"A\",\"T\"]\n",
    "x=1\n",
    "y=1\n",
    "gap = -4\n",
    "match = 5\n",
    "mismatch = -4"
   ]
  },
  {
   "cell_type": "markdown",
   "metadata": {},
   "source": [
    "listex = [\"-\",\"K\",\"V\",\"L\",\"E\",\"F\",\"G\",\"Y\"]\n",
    "listey = [\"-\",\"E\",\"Q\",\"L\",\"L\",\"K\",\"A\",\"L\",\"E\",\"F\",\"K\",\"L\"]\n",
    "x=1\n",
    "y=1\n",
    "gap = -1\n",
    "match = 4\n",
    "mismatch = -2"
   ]
  },
  {
   "cell_type": "markdown",
   "metadata": {},
   "source": [
    "## 2.Sayılar ile Matrisin oluşturulması ve Değer Atamaları"
   ]
  },
  {
   "cell_type": "code",
   "execution_count": null,
   "metadata": {},
   "outputs": [],
   "source": [
    "listex = list(input(\"yukarıdan aşağı:\"))\n",
    "listex = [\"-\"] + listex\n",
    "listey = list(input(\"saoldan sağa:\"))\n",
    "listey = [\"-\"] + listey\n",
    "x=1\n",
    "y=1\n",
    "gap = int(input(\"gap:\"))\n",
    "alınangap = gap\n",
    "match = int(input(\"match:\"))\n",
    "mismatch = int(input(\"mismatch:\"))\n",
    "a = np.zeros((len(listex),len(listey)))\n",
    "a = a.astype(int)\n",
    "l1 = []\n",
    "l2 = []"
   ]
  },
  {
   "cell_type": "markdown",
   "metadata": {},
   "source": [
    "* KVLEFGY\n",
    "* EQLLKALEFKL\n",
    "* -1\n",
    "* 4\n",
    "* -2"
   ]
  },
  {
   "cell_type": "code",
   "execution_count": 40,
   "metadata": {},
   "outputs": [],
   "source": [
    "x=1\n",
    "y=1\n",
    "a = np.zeros((len(listex),len(listey)))\n",
    "a = a.astype(int)\n",
    "l1 = []\n",
    "l2 = []"
   ]
  },
  {
   "cell_type": "code",
   "execution_count": 41,
   "metadata": {},
   "outputs": [
    {
     "data": {
      "text/plain": [
       "array([[0, 0, 0, 0, 0, 0, 0, 0, 0, 0, 0, 0],\n",
       "       [0, 0, 0, 0, 0, 0, 0, 0, 0, 0, 0, 0],\n",
       "       [0, 0, 0, 0, 0, 0, 0, 0, 0, 0, 0, 0],\n",
       "       [0, 0, 0, 0, 0, 0, 0, 0, 0, 0, 0, 0],\n",
       "       [0, 0, 0, 0, 0, 0, 0, 0, 0, 0, 0, 0],\n",
       "       [0, 0, 0, 0, 0, 0, 0, 0, 0, 0, 0, 0],\n",
       "       [0, 0, 0, 0, 0, 0, 0, 0, 0, 0, 0, 0],\n",
       "       [0, 0, 0, 0, 0, 0, 0, 0, 0, 0, 0, 0]])"
      ]
     },
     "execution_count": 41,
     "metadata": {},
     "output_type": "execute_result"
    }
   ],
   "source": [
    "a"
   ]
  },
  {
   "cell_type": "code",
   "execution_count": 42,
   "metadata": {},
   "outputs": [],
   "source": [
    "while x<len(listex):\n",
    "    while y<len(listey):\n",
    "        if listex[x] == listey[y]:\n",
    "            a[x,y] = max(a[x-1,y-1] + match,a[x-1,y] + gap, a[x,y-1] + gap)\n",
    "        else:\n",
    "            a[x,y] = max(a[x-1,y-1] + mismatch,a[x-1,y] + gap, a[x,y-1] + gap,0)\n",
    "        y+=1\n",
    "    y=1\n",
    "    x+=1"
   ]
  },
  {
   "cell_type": "code",
   "execution_count": 43,
   "metadata": {},
   "outputs": [
    {
     "data": {
      "text/plain": [
       "array([[ 0,  0,  0,  0,  0,  0,  0,  0,  0,  0,  0,  0],\n",
       "       [ 0,  0,  0,  0,  0,  4,  0,  0,  0,  0,  4,  0],\n",
       "       [ 0,  0,  0,  0,  0,  0,  2,  0,  0,  0,  0,  2],\n",
       "       [ 0,  0,  0,  4,  4,  0,  0,  6,  1,  0,  0,  4],\n",
       "       [ 0,  4,  0,  0,  2,  2,  0,  1, 10,  5,  0,  0],\n",
       "       [ 0,  0,  2,  0,  0,  0,  0,  0,  5, 14,  9,  4],\n",
       "       [ 0,  0,  0,  0,  0,  0,  0,  0,  0,  9, 12,  7],\n",
       "       [ 0,  0,  0,  0,  0,  0,  0,  0,  0,  4,  7, 10]])"
      ]
     },
     "execution_count": 43,
     "metadata": {},
     "output_type": "execute_result"
    }
   ],
   "source": [
    "a"
   ]
  },
  {
   "cell_type": "markdown",
   "metadata": {},
   "source": [
    "### 2.5 Matristeki En Yüksek Değeri Bulunması"
   ]
  },
  {
   "cell_type": "code",
   "execution_count": 44,
   "metadata": {},
   "outputs": [],
   "source": [
    "result = np.where(a == np.max(a))\n",
    "lst = list(zip(result[0],result[1]))\n",
    "g1 =  lst[0][0]\n",
    "h1 =  lst[0][1]\n",
    "#g2 = deneme[max(list(deneme.keys()))][0]\n",
    "#h2 = deneme[max(list(deneme.keys()))][1]"
   ]
  },
  {
   "cell_type": "code",
   "execution_count": 45,
   "metadata": {},
   "outputs": [
    {
     "data": {
      "text/plain": [
       "(5, 9)"
      ]
     },
     "execution_count": 45,
     "metadata": {},
     "output_type": "execute_result"
    }
   ],
   "source": [
    "g1,h1"
   ]
  },
  {
   "cell_type": "markdown",
   "metadata": {},
   "source": [
    "## 3.Harf ile Hizalama İşlemleri"
   ]
  },
  {
   "cell_type": "code",
   "execution_count": 46,
   "metadata": {},
   "outputs": [
    {
     "name": "stdout",
     "output_type": "stream",
     "text": [
      "İlerleyiş\n",
      "5 9\n",
      "4 8\n",
      "3 7\n",
      "2 6\n",
      "1 5\n",
      "0 4\n"
     ]
    }
   ],
   "source": [
    "print(\"İlerleyiş\")\n",
    "print(g1,h1)\n",
    "while g1>0 and h1>0:\n",
    "    if a[g1-1,h1] == a[g1,h1] - gap :\n",
    "        g1-=1\n",
    "        l2.append(listex[g1+1])\n",
    "        l1.append(\"_\")\n",
    "    elif a[g1,h1-1]  == a[g1,h1] - gap:\n",
    "        h1-=1\n",
    "        print(g1,h1)\n",
    "        l2.append(\"_\")\n",
    "        l1.append(listey[h1+1])\n",
    "    elif a[g1-1,h1-1] == a[g1,h1] - match:\n",
    "        g1-=1\n",
    "        h1-=1\n",
    "        print(g1,h1)\n",
    "        l1.append(listex[g1+1])\n",
    "        l2.append(listey[h1+1])\n",
    "    elif a[g1-1,h1-1]  == a[g1,h1] - mismatch:\n",
    "        g1-=1\n",
    "        h1-=1\n",
    "        print(g1,h1)\n",
    "        l2.append(listex[g1+1])\n",
    "        l1.append(listey[h1+1])"
   ]
  },
  {
   "cell_type": "code",
   "execution_count": 47,
   "metadata": {},
   "outputs": [
    {
     "name": "stdout",
     "output_type": "stream",
     "text": [
      "['K', 'A', 'L', 'E', 'F']\n",
      "['K', 'V', 'L', 'E', 'F']\n"
     ]
    }
   ],
   "source": [
    "l1.reverse()\n",
    "l2.reverse()\n",
    "print(l1)\n",
    "print(l2)"
   ]
  },
  {
   "cell_type": "code",
   "execution_count": null,
   "metadata": {},
   "outputs": [],
   "source": []
  },
  {
   "cell_type": "code",
   "execution_count": 17,
   "metadata": {},
   "outputs": [
    {
     "name": "stdout",
     "output_type": "stream",
     "text": [
      "İlerleyiş\n",
      "5 9\n",
      "4 8\n",
      "3 7\n",
      "2 6\n",
      "2 5\n",
      "0 4\n"
     ]
    }
   ],
   "source": [
    "print(\"İlerleyiş\")\n",
    "print(g1,h1)\n",
    "while g1>0 and h1>0:\n",
    "    \n",
    "    if a[g1,h1-1]  == a[g1,h1] - gap:\n",
    "        h1-=1\n",
    "        print(g1,h1)\n",
    "        l2.append(\"_\")\n",
    "        l1.append(listey[h1+1])\n",
    "    elif a[g1-1,h1] == a[g1,h1] - gap :\n",
    "        g1-=1\n",
    "        l2.append(listex[g1+1])\n",
    "        l1.append(\"_\")\n",
    "    elif a[g1-1,h1-1] == a[g1,h1] - match:\n",
    "        g1-=1\n",
    "        h1-=1\n",
    "        print(g1,h1)\n",
    "        l1.append(listex[g1+1])\n",
    "        l2.append(listey[h1+1])\n",
    "    elif a[g1-1,h1-1]  == a[g1,h1] - mismatch:\n",
    "        g1-=1\n",
    "        h1-=1\n",
    "        print(g1,h1)\n",
    "        l2.append(listex[g1+1])\n",
    "        l1.append(listey[h1+1])"
   ]
  },
  {
   "cell_type": "code",
   "execution_count": 18,
   "metadata": {},
   "outputs": [
    {
     "name": "stdout",
     "output_type": "stream",
     "text": [
      "['K', '_', 'A', 'L', 'E', 'F']\n",
      "['K', 'V', '_', 'L', 'E', 'F']\n"
     ]
    }
   ],
   "source": [
    "l1.reverse()\n",
    "l2.reverse()\n",
    "print(l1)\n",
    "print(l2)"
   ]
  },
  {
   "cell_type": "code",
   "execution_count": null,
   "metadata": {},
   "outputs": [],
   "source": []
  },
  {
   "cell_type": "code",
   "execution_count": null,
   "metadata": {},
   "outputs": [],
   "source": []
  },
  {
   "cell_type": "code",
   "execution_count": null,
   "metadata": {},
   "outputs": [],
   "source": []
  },
  {
   "cell_type": "code",
   "execution_count": null,
   "metadata": {},
   "outputs": [],
   "source": []
  },
  {
   "cell_type": "code",
   "execution_count": null,
   "metadata": {},
   "outputs": [],
   "source": []
  },
  {
   "cell_type": "code",
   "execution_count": null,
   "metadata": {},
   "outputs": [],
   "source": []
  },
  {
   "cell_type": "markdown",
   "metadata": {},
   "source": [
    "# GLOBAL"
   ]
  },
  {
   "cell_type": "markdown",
   "metadata": {},
   "source": [
    "## 1.Blosum Matrisi Atama ve Kütüphaneler"
   ]
  },
  {
   "cell_type": "code",
   "execution_count": 48,
   "metadata": {},
   "outputs": [],
   "source": [
    "import numpy as np\n",
    "blosum62 = {\n",
    "    ('W', 'F'): 1, ('L', 'R'): -2, ('S', 'P'): -1, ('V', 'T'): 0,\n",
    "    ('Q', 'Q'): 5, ('N', 'A'): -2, ('Z', 'Y'): -2, ('W', 'R'): -3,\n",
    "    ('Q', 'A'): -1, ('S', 'D'): 0, ('H', 'H'): 8, ('S', 'H'): -1,\n",
    "    ('H', 'D'): -1, ('L', 'N'): -3, ('W', 'A'): -3, ('Y', 'M'): -1,\n",
    "    ('G', 'R'): -2, ('Y', 'I'): -1, ('Y', 'E'): -2, ('B', 'Y'): -3,\n",
    "    ('Y', 'A'): -2, ('V', 'D'): -3, ('B', 'S'): 0, ('Y', 'Y'): 7,\n",
    "    ('G', 'N'): 0, ('E', 'C'): -4, ('Y', 'Q'): -1, ('Z', 'Z'): 4,\n",
    "    ('V', 'A'): 0, ('C', 'C'): 9, ('M', 'R'): -1, ('V', 'E'): -2,\n",
    "    ('T', 'N'): 0, ('P', 'P'): 7, ('V', 'I'): 3, ('V', 'S'): -2,\n",
    "    ('Z', 'P'): -1, ('V', 'M'): 1, ('T', 'F'): -2, ('V', 'Q'): -2,\n",
    "    ('K', 'K'): 5, ('P', 'D'): -1, ('I', 'H'): -3, ('I', 'D'): -3,\n",
    "    ('T', 'R'): -1, ('P', 'L'): -3, ('K', 'G'): -2, ('M', 'N'): -2,\n",
    "    ('P', 'H'): -2, ('F', 'Q'): -3, ('Z', 'G'): -2, ('X', 'L'): -1,\n",
    "    ('T', 'M'): -1, ('Z', 'C'): -3, ('X', 'H'): -1, ('D', 'R'): -2,\n",
    "    ('B', 'W'): -4, ('X', 'D'): -1, ('Z', 'K'): 1, ('F', 'A'): -2,\n",
    "    ('Z', 'W'): -3, ('F', 'E'): -3, ('D', 'N'): 1, ('B', 'K'): 0,\n",
    "    ('X', 'X'): -1, ('F', 'I'): 0, ('B', 'G'): -1, ('X', 'T'): 0,\n",
    "    ('F', 'M'): 0, ('B', 'C'): -3, ('Z', 'I'): -3, ('Z', 'V'): -2,\n",
    "    ('S', 'S'): 4, ('L', 'Q'): -2, ('W', 'E'): -3, ('Q', 'R'): 1,\n",
    "    ('N', 'N'): 6, ('W', 'M'): -1, ('Q', 'C'): -3, ('W', 'I'): -3,\n",
    "    ('S', 'C'): -1, ('L', 'A'): -1, ('S', 'G'): 0, ('L', 'E'): -3,\n",
    "    ('W', 'Q'): -2, ('H', 'G'): -2, ('S', 'K'): 0, ('Q', 'N'): 0,\n",
    "    ('N', 'R'): 0, ('H', 'C'): -3, ('Y', 'N'): -2, ('G', 'Q'): -2,\n",
    "    ('Y', 'F'): 3, ('C', 'A'): 0, ('V', 'L'): 1, ('G', 'E'): -2,\n",
    "    ('G', 'A'): 0, ('K', 'R'): 2, ('E', 'D'): 2, ('Y', 'R'): -2,\n",
    "    ('M', 'Q'): 0, ('T', 'I'): -1, ('C', 'D'): -3, ('V', 'F'): -1,\n",
    "    ('T', 'A'): 0, ('T', 'P'): -1, ('B', 'P'): -2, ('T', 'E'): -1,\n",
    "    ('V', 'N'): -3, ('P', 'G'): -2, ('M', 'A'): -1, ('K', 'H'): -1,\n",
    "    ('V', 'R'): -3, ('P', 'C'): -3, ('M', 'E'): -2, ('K', 'L'): -2,\n",
    "    ('V', 'V'): 4, ('M', 'I'): 1, ('T', 'Q'): -1, ('I', 'G'): -4,\n",
    "    ('P', 'K'): -1, ('M', 'M'): 5, ('K', 'D'): -1, ('I', 'C'): -1,\n",
    "    ('Z', 'D'): 1, ('F', 'R'): -3, ('X', 'K'): -1, ('Q', 'D'): 0,\n",
    "    ('X', 'G'): -1, ('Z', 'L'): -3, ('X', 'C'): -2, ('Z', 'H'): 0,\n",
    "    ('B', 'L'): -4, ('B', 'H'): 0, ('F', 'F'): 6, ('X', 'W'): -2,\n",
    "    ('B', 'D'): 4, ('D', 'A'): -2, ('S', 'L'): -2, ('X', 'S'): 0,\n",
    "    ('F', 'N'): -3, ('S', 'R'): -1, ('W', 'D'): -4, ('V', 'Y'): -1,\n",
    "    ('W', 'L'): -2, ('H', 'R'): 0, ('W', 'H'): -2, ('H', 'N'): 1,\n",
    "    ('W', 'T'): -2, ('T', 'T'): 5, ('S', 'F'): -2, ('W', 'P'): -4,\n",
    "    ('L', 'D'): -4, ('B', 'I'): -3, ('L', 'H'): -3, ('S', 'N'): 1,\n",
    "    ('B', 'T'): -1, ('L', 'L'): 4, ('Y', 'K'): -2, ('E', 'Q'): 2,\n",
    "    ('Y', 'G'): -3, ('Z', 'S'): 0, ('Y', 'C'): -2, ('G', 'D'): -1,\n",
    "    ('B', 'V'): -3, ('E', 'A'): -1, ('Y', 'W'): 2, ('E', 'E'): 5,\n",
    "    ('Y', 'S'): -2, ('C', 'N'): -3, ('V', 'C'): -1, ('T', 'H'): -2,\n",
    "    ('P', 'R'): -2, ('V', 'G'): -3, ('T', 'L'): -1, ('V', 'K'): -2,\n",
    "    ('K', 'Q'): 1, ('R', 'A'): -1, ('I', 'R'): -3, ('T', 'D'): -1,\n",
    "    ('P', 'F'): -4, ('I', 'N'): -3, ('K', 'I'): -3, ('M', 'D'): -3,\n",
    "    ('V', 'W'): -3, ('W', 'W'): 11, ('M', 'H'): -2, ('P', 'N'): -2,\n",
    "    ('K', 'A'): -1, ('M', 'L'): 2, ('K', 'E'): 1, ('Z', 'E'): 4,\n",
    "    ('X', 'N'): -1, ('Z', 'A'): -1, ('Z', 'M'): -1, ('X', 'F'): -1,\n",
    "    ('K', 'C'): -3, ('B', 'Q'): 0, ('X', 'B'): -1, ('B', 'M'): -3,\n",
    "    ('F', 'C'): -2, ('Z', 'Q'): 3, ('X', 'Z'): -1, ('F', 'G'): -3,\n",
    "    ('B', 'E'): 1, ('X', 'V'): -1, ('F', 'K'): -3, ('B', 'A'): -2,\n",
    "    ('X', 'R'): -1, ('D', 'D'): 6, ('W', 'G'): -2, ('Z', 'F'): -3,\n",
    "    ('S', 'Q'): 0, ('W', 'C'): -2, ('W', 'K'): -3, ('H', 'Q'): 0,\n",
    "    ('L', 'C'): -1, ('W', 'N'): -4, ('S', 'A'): 1, ('L', 'G'): -4,\n",
    "    ('W', 'S'): -3, ('S', 'E'): 0, ('H', 'E'): 0, ('S', 'I'): -2,\n",
    "    ('H', 'A'): -2, ('S', 'M'): -1, ('Y', 'L'): -1, ('Y', 'H'): 2,\n",
    "    ('Y', 'D'): -3, ('E', 'R'): 0, ('X', 'P'): -2, ('G', 'G'): 6,\n",
    "    ('G', 'C'): -3, ('E', 'N'): 0, ('Y', 'T'): -2, ('Y', 'P'): -3,\n",
    "    ('T', 'K'): -1, ('A', 'A'): 4, ('P', 'Q'): -1, ('T', 'C'): -1,\n",
    "    ('V', 'H'): -3, ('T', 'G'): -2, ('I', 'Q'): -3, ('Z', 'T'): -1,\n",
    "    ('C', 'R'): -3, ('V', 'P'): -2, ('P', 'E'): -1, ('M', 'C'): -1,\n",
    "    ('K', 'N'): 0, ('I', 'I'): 4, ('P', 'A'): -1, ('M', 'G'): -3,\n",
    "    ('T', 'S'): 1, ('I', 'E'): -3, ('P', 'M'): -2, ('M', 'K'): -1,\n",
    "    ('I', 'A'): -1, ('P', 'I'): -3, ('R', 'R'): 5, ('X', 'M'): -1,\n",
    "    ('L', 'I'): 2, ('X', 'I'): -1, ('Z', 'B'): 1, ('X', 'E'): -1,\n",
    "    ('Z', 'N'): 0, ('X', 'A'): 0, ('B', 'R'): -1, ('B', 'N'): 3,\n",
    "    ('F', 'D'): -3, ('X', 'Y'): -1, ('Z', 'R'): 0, ('F', 'H'): -1,\n",
    "    ('B', 'F'): -3, ('F', 'L'): 0, ('X', 'Q'): -1, ('B', 'B'): 4 ,\n",
    "(\"N\",\"D\"): 1,('A', 'D'):-2,('A', 'S'):1,('A', 'E'):-1,('A', 'N'):-2,('N', 'S'):1,('N', 'E'):0,('D', 'S'):0,('D', 'E'):2\n",
    ",('D', 'L'):-4,('A', 'L'):-1,('E', 'L'):-3}"
   ]
  },
  {
   "cell_type": "code",
   "execution_count": null,
   "metadata": {},
   "outputs": [],
   "source": []
  },
  {
   "cell_type": "code",
   "execution_count": 50,
   "metadata": {},
   "outputs": [
    {
     "name": "stdout",
     "output_type": "stream",
     "text": [
      "gap:-5\n"
     ]
    },
    {
     "ename": "IndexError",
     "evalue": "index 8 is out of bounds for axis 0 with size 8",
     "output_type": "error",
     "traceback": [
      "\u001b[1;31m---------------------------------------------------------------------------\u001b[0m",
      "\u001b[1;31mIndexError\u001b[0m                                Traceback (most recent call last)",
      "\u001b[1;32m<ipython-input-50-cf8a5b6603e6>\u001b[0m in \u001b[0;36m<module>\u001b[1;34m\u001b[0m\n\u001b[0;32m     13\u001b[0m \u001b[0mgap\u001b[0m\u001b[1;33m=\u001b[0m\u001b[1;36m0\u001b[0m\u001b[1;33m\u001b[0m\u001b[1;33m\u001b[0m\u001b[0m\n\u001b[0;32m     14\u001b[0m \u001b[1;32mwhile\u001b[0m \u001b[0mx\u001b[0m \u001b[1;33m<\u001b[0m \u001b[0mlen\u001b[0m\u001b[1;33m(\u001b[0m\u001b[0mlistey\u001b[0m\u001b[1;33m)\u001b[0m\u001b[1;33m+\u001b[0m\u001b[1;36m1\u001b[0m\u001b[1;33m:\u001b[0m\u001b[1;33m\u001b[0m\u001b[1;33m\u001b[0m\u001b[0m\n\u001b[1;32m---> 15\u001b[1;33m         \u001b[0mb\u001b[0m\u001b[1;33m[\u001b[0m\u001b[0mx\u001b[0m\u001b[1;33m,\u001b[0m\u001b[0my\u001b[0m\u001b[1;33m]\u001b[0m \u001b[1;33m=\u001b[0m \u001b[0mgap\u001b[0m\u001b[1;33m\u001b[0m\u001b[1;33m\u001b[0m\u001b[0m\n\u001b[0m\u001b[0;32m     16\u001b[0m         \u001b[0mgap\u001b[0m\u001b[1;33m+=\u001b[0m\u001b[0malınangap\u001b[0m\u001b[1;33m\u001b[0m\u001b[1;33m\u001b[0m\u001b[0m\n\u001b[0;32m     17\u001b[0m         \u001b[0mx\u001b[0m\u001b[1;33m+=\u001b[0m\u001b[1;36m1\u001b[0m\u001b[1;33m\u001b[0m\u001b[1;33m\u001b[0m\u001b[0m\n",
      "\u001b[1;31mIndexError\u001b[0m: index 8 is out of bounds for axis 0 with size 8"
     ]
    }
   ],
   "source": [
    "x=0\n",
    "y=0\n",
    "b = np.zeros((len(listex),len(listey)))\n",
    "b = b.astype(int)\n",
    "gap = 0\n",
    "alınangap=int(input(\"gap:\"))\n",
    "while y < len(listex)-1:\n",
    "        b[x,y] = gap\n",
    "        gap+=alınangap\n",
    "        y+=1\n",
    "x=0\n",
    "y=0\n",
    "gap=0\n",
    "while x < len(listey)+1:\n",
    "        b[x,y] = gap\n",
    "        gap+=alınangap\n",
    "        x+=1\n",
    "x=1\n",
    "y=1\n",
    "gap=0\n",
    "l1 = []\n",
    "l2 = []"
   ]
  },
  {
   "cell_type": "code",
   "execution_count": null,
   "metadata": {},
   "outputs": [],
   "source": []
  },
  {
   "cell_type": "code",
   "execution_count": null,
   "metadata": {},
   "outputs": [],
   "source": []
  },
  {
   "cell_type": "code",
   "execution_count": null,
   "metadata": {},
   "outputs": [],
   "source": []
  },
  {
   "cell_type": "markdown",
   "metadata": {},
   "source": [
    "listex = list(input(\"listex:\"))\n",
    "listex = [\"-\"] + listex\n",
    "listey = list(input(\"listey:\"))\n",
    "listey = [\"-\"] + listey\n",
    "x=0\n",
    "y=0\n",
    "b = np.zeros((len(listex),len(listey)))\n",
    "b = b.astype(int)\n",
    "gap = 0\n",
    "while y < len(listex)-1:\n",
    "        b[x,y] = gap\n",
    "        gap-=int(input(\"gap:\"))\n",
    "        y+=1\n",
    "x=0\n",
    "y=0\n",
    "gap=0\n",
    "while x < len(listey)+1:\n",
    "        b[x,y] = gap\n",
    "        gap-=int(input(\"gap:\"))\n",
    "        x+=1\n",
    "x=1\n",
    "y=1\n",
    "gap=0\n",
    "l1 = []\n",
    "l2 = []"
   ]
  },
  {
   "cell_type": "markdown",
   "metadata": {},
   "source": [
    "listex = [\"-\",\"S\",\"E\",\"N\",\"D\"]\n",
    "listey = [\"-\",\"A\",\"N\",\"D\"]\n",
    "x=0\n",
    "y=0\n",
    "match = \"bLOSAM\"\n",
    "b = np.zeros((len(listex),len(listey)))\n",
    "b = b.astype(int)\n",
    "deger=0"
   ]
  },
  {
   "cell_type": "markdown",
   "metadata": {},
   "source": [
    "## 2.Sayı Matrisini Oluşturma"
   ]
  },
  {
   "cell_type": "code",
   "execution_count": 32,
   "metadata": {},
   "outputs": [],
   "source": [
    "listex = [\"-\",\"A\",\"A\",\"E\",\"L\",\"L\"]\n",
    "listey = [\"-\",\"D\",\"A\",\"E\",\"E\"]\n",
    "x=0\n",
    "y=0\n",
    "b = np.zeros((len(listex),len(listey)))\n",
    "b = b.astype(int)\n",
    "deger=0\n",
    "while y < len(listex)-1:\n",
    "        b[x,y] = deger\n",
    "        deger-=5\n",
    "        y+=1\n",
    "x=0\n",
    "y=0\n",
    "deger=0\n",
    "while x < len(listey)+1:\n",
    "        b[x,y] = deger\n",
    "        deger-=5\n",
    "        x+=1\n",
    "x=1\n",
    "y=1\n",
    "deger=0\n",
    "l1 = []\n",
    "l2 = []"
   ]
  },
  {
   "cell_type": "markdown",
   "metadata": {},
   "source": [
    "while y < len(listex)-1:\n",
    "        b[x,y] = deger\n",
    "        deger-=10\n",
    "        y+=1\n",
    "x=0\n",
    "y=0\n",
    "deger=0\n",
    "while x < len(listey)+1:\n",
    "        b[x,y] = deger\n",
    "        deger-=10\n",
    "        x+=1\n",
    "x=1\n",
    "y=1\n",
    "deger=0\n",
    "l1 = []\n",
    "l2 = []"
   ]
  },
  {
   "cell_type": "code",
   "execution_count": 33,
   "metadata": {},
   "outputs": [],
   "source": [
    "b = b.T"
   ]
  },
  {
   "cell_type": "code",
   "execution_count": 34,
   "metadata": {},
   "outputs": [
    {
     "data": {
      "text/plain": [
       "array([[  0,  -5, -10, -15, -20, -25],\n",
       "       [ -5,   0,   0,   0,   0,   0],\n",
       "       [-10,   0,   0,   0,   0,   0],\n",
       "       [-15,   0,   0,   0,   0,   0],\n",
       "       [-20,   0,   0,   0,   0,   0]])"
      ]
     },
     "execution_count": 34,
     "metadata": {},
     "output_type": "execute_result"
    }
   ],
   "source": [
    "b"
   ]
  },
  {
   "cell_type": "markdown",
   "metadata": {},
   "source": [
    "### 2.5 Sayı Matrisine Atamalar"
   ]
  },
  {
   "cell_type": "code",
   "execution_count": 35,
   "metadata": {},
   "outputs": [],
   "source": [
    "deger = -5\n",
    "while x < len(listey):\n",
    "    while y < len(listex):\n",
    "        b[x,y] = max(b[x-1,y-1] + blosum62[listey[x],listex[y]] ,b[x-1,y] + deger, b[x,y-1] + deger)\n",
    "        y+=1\n",
    "    y=1\n",
    "    x+=1"
   ]
  },
  {
   "cell_type": "code",
   "execution_count": 36,
   "metadata": {},
   "outputs": [
    {
     "data": {
      "text/plain": [
       "array([[  0,  -5, -10, -15, -20, -25],\n",
       "       [ -5,  -2,  -7,  -8, -13, -18],\n",
       "       [-10,  -1,   2,  -3,  -8, -13],\n",
       "       [-15,  -6,  -2,   7,   2,  -3],\n",
       "       [-20, -11,  -7,   3,   4,  -1]])"
      ]
     },
     "execution_count": 36,
     "metadata": {},
     "output_type": "execute_result"
    }
   ],
   "source": [
    "b"
   ]
  },
  {
   "cell_type": "markdown",
   "metadata": {},
   "source": [
    "## 3.Harflerin Yerleştirilmesi"
   ]
  },
  {
   "cell_type": "code",
   "execution_count": 35,
   "metadata": {},
   "outputs": [],
   "source": [
    "g1 = len(listey)-1\n",
    "h1 = len(listex)-1"
   ]
  },
  {
   "cell_type": "code",
   "execution_count": 36,
   "metadata": {},
   "outputs": [],
   "source": [
    "cık = -5"
   ]
  },
  {
   "cell_type": "code",
   "execution_count": 37,
   "metadata": {},
   "outputs": [
    {
     "name": "stdout",
     "output_type": "stream",
     "text": [
      "İlerleyiş\n",
      "4 5\n",
      "4 4\n",
      "3 3\n",
      "2 2\n",
      "1 1\n",
      "0 0\n"
     ]
    }
   ],
   "source": [
    "print(\"İlerleyiş\")\n",
    "print(g1,h1)\n",
    "while g1>0 and h1>0:\n",
    "    if b[g1-1,h1] == b[g1,h1] - cık :\n",
    "        g1-=1\n",
    "        print(g1,h1)\n",
    "        l1.append(\"_\")\n",
    "        l2.append(listey[g1+1])\n",
    "    elif b[g1,h1-1]  == b[g1,h1] - cık:\n",
    "        h1-=1\n",
    "        print(g1,h1)\n",
    "        l1.append(listex[h1+1])\n",
    "        l2.append(\"_\")\n",
    "    elif b[g1-1,h1-1] == b[g1,h1] - blosum62[listey[g1],listex[h1]]:\n",
    "        g1-=1\n",
    "        h1-=1\n",
    "        print(g1,h1)\n",
    "        l2.append(listey[g1+1])\n",
    "        l1.append(listex[h1+1])\n",
    "   \n"
   ]
  },
  {
   "cell_type": "code",
   "execution_count": null,
   "metadata": {},
   "outputs": [],
   "source": [
    "l1.reverse()\n",
    "l2.reverse()\n",
    "\n",
    "print(l1)\n",
    "print(l2)"
   ]
  },
  {
   "cell_type": "code",
   "execution_count": null,
   "metadata": {},
   "outputs": [],
   "source": []
  },
  {
   "cell_type": "code",
   "execution_count": null,
   "metadata": {},
   "outputs": [],
   "source": []
  },
  {
   "cell_type": "code",
   "execution_count": null,
   "metadata": {},
   "outputs": [],
   "source": []
  },
  {
   "cell_type": "code",
   "execution_count": null,
   "metadata": {},
   "outputs": [],
   "source": []
  },
  {
   "cell_type": "code",
   "execution_count": null,
   "metadata": {},
   "outputs": [],
   "source": []
  },
  {
   "cell_type": "code",
   "execution_count": null,
   "metadata": {},
   "outputs": [],
   "source": []
  },
  {
   "cell_type": "code",
   "execution_count": null,
   "metadata": {},
   "outputs": [],
   "source": []
  },
  {
   "cell_type": "code",
   "execution_count": 38,
   "metadata": {},
   "outputs": [
    {
     "name": "stdout",
     "output_type": "stream",
     "text": [
      "İlerleyiş\n",
      "0 0\n"
     ]
    }
   ],
   "source": [
    "print(\"İlerleyiş\")\n",
    "print(g1,h1)\n",
    "while g1>0 and h1>0:\n",
    "    if b[g1-1,h1-1] == b[g1,h1] - blosum62[listey[g1],listex[h1]]:\n",
    "        g1-=1\n",
    "        h1-=1\n",
    "        print(g1,h1)\n",
    "        l2.append(listey[g1+1])\n",
    "        l1.append(listex[h1+1])\n",
    "    elif b[g1-1,h1] == b[g1,h1] - cık :\n",
    "        g1-=1\n",
    "        print(g1,h1)\n",
    "        l1.append(\"_\")\n",
    "        l2.append(listey[g1+1])\n",
    "    elif b[g1,h1-1]  == b[g1,h1] - cık:\n",
    "        h1-=1\n",
    "        print(g1,h1)\n",
    "        l1.append(listex[h1+1])\n",
    "        l2.append(\"_\")\n"
   ]
  },
  {
   "cell_type": "code",
   "execution_count": 20,
   "metadata": {},
   "outputs": [
    {
     "name": "stdout",
     "output_type": "stream",
     "text": [
      "['A', 'A', 'E', 'L', 'L']\n",
      "['D', 'A', 'E', '_', 'E']\n"
     ]
    }
   ],
   "source": [
    "l1.reverse()\n",
    "l2.reverse()\n",
    "\n",
    "print(l1)\n",
    "print(l2)"
   ]
  },
  {
   "cell_type": "code",
   "execution_count": 39,
   "metadata": {},
   "outputs": [
    {
     "name": "stdout",
     "output_type": "stream",
     "text": [
      "İlerleyiş\n",
      "4 5\n",
      "4 4\n",
      "3 3\n",
      "2 2\n",
      "1 1\n",
      "0 0\n"
     ]
    }
   ],
   "source": [
    "print(\"İlerleyiş\")\n",
    "print(g1,h1)\n",
    "while g1>0 and h1>0:\n",
    "    if b[g1-1,h1] == b[g1,h1] - cık :\n",
    "        g1-=1\n",
    "        print(g1,h1)\n",
    "        l1.append(\"_\")\n",
    "        l2.append(listey[g1+1])\n",
    "    elif b[g1,h1-1]  == b[g1,h1] - cık:\n",
    "        h1-=1\n",
    "        print(g1,h1)\n",
    "        l1.append(listex[h1+1])\n",
    "        l2.append(\"_\")\n",
    "    elif b[g1-1,h1-1] == b[g1,h1] - blosum62[listey[g1],listex[h1]]:\n",
    "            g1-=1\n",
    "            h1-=1\n",
    "            print(g1,h1)\n",
    "            l2.append(listey[g1+1])\n",
    "            l1.append(listex[h1+1])"
   ]
  },
  {
   "cell_type": "code",
   "execution_count": 40,
   "metadata": {},
   "outputs": [
    {
     "name": "stdout",
     "output_type": "stream",
     "text": [
      "['A', 'A', 'E', 'L', 'L']\n",
      "['D', 'A', 'E', 'E', '_']\n"
     ]
    }
   ],
   "source": [
    "l1.reverse()\n",
    "l2.reverse()\n",
    "\n",
    "print(l1)\n",
    "print(l2)"
   ]
  },
  {
   "cell_type": "code",
   "execution_count": null,
   "metadata": {},
   "outputs": [],
   "source": []
  }
 ],
 "metadata": {
  "kernelspec": {
   "display_name": "Python 3",
   "language": "python",
   "name": "python3"
  },
  "language_info": {
   "codemirror_mode": {
    "name": "ipython",
    "version": 3
   },
   "file_extension": ".py",
   "mimetype": "text/x-python",
   "name": "python",
   "nbconvert_exporter": "python",
   "pygments_lexer": "ipython3",
   "version": "3.7.6"
  }
 },
 "nbformat": 4,
 "nbformat_minor": 4
}
